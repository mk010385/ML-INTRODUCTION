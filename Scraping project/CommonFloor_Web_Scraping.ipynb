{
 "cells": [
  {
   "cell_type": "code",
   "execution_count": 120,
   "metadata": {},
   "outputs": [],
   "source": [
    "import requests\n",
    "from bs4 import BeautifulSoup"
   ]
  },
  {
   "cell_type": "code",
   "execution_count": 121,
   "metadata": {},
   "outputs": [],
   "source": [
    "req = requests.get(\"https://www.commonfloor.com/bangalore-property/for-rent\")"
   ]
  },
  {
   "cell_type": "code",
   "execution_count": 135,
   "metadata": {},
   "outputs": [],
   "source": [
    "content = req.content\n",
    "soup = BeautifulSoup(content,\"html.parser\")\n",
    "all_houses = soup.find_all(\"div\",{\"class\" : \"snb-tile\"})"
   ]
  },
  {
   "cell_type": "code",
   "execution_count": 140,
   "metadata": {},
   "outputs": [
    {
     "name": "stdout",
     "output_type": "stream",
     "text": [
      "[{'Property Details': 'Semi Furnished 2BHK Apartment for Rent in Doddanekkundi', 'Estate': ' Project: Sai Krupa Elite More Properties ', 'Price': ' 31K '}, {'Property Details': 'Semi Furnished 2BHK Apartment for Rent in Bellandur', 'Estate': ' Project: Adarsh Palm Retreat More Properties ', 'Price': ' 37K '}, {'Property Details': 'Semi Furnished 3BHK Apartment for Rent in Sarjapur Road', 'Estate': ' Project: Confident Leo More Properties ', 'Price': ' 25K '}, {'Property Details': 'Fully Furnished 3BHK Apartment for Rent in RMV 2nd Stage', 'Estate': ' Project: Raheja Pebble Bay More Properties ', 'Price': ' 90K '}, {'Property Details': 'Semi Furnished 3BHK Villa for Rent in Kasavanahalli', 'Estate': ' Project: Vaishnavi Orchids More Properties ', 'Price': ' 47K '}, {'Property Details': 'Semi Furnished 2BHK Apartment for Rent in Kadugodi', 'Estate': ' Project: Prestige Park View More Properties ', 'Price': ' 29K '}, {'Property Details': 'Semi Furnished 3BHK Apartment for Rent in Whitefield', 'Estate': ' Project: Sobha Habitech More Properties ', 'Price': ' 35K '}, {'Property Details': 'Semi Furnished 3BHK Apartment for Rent in kaikondrahalli', 'Estate': ' Project: Mantri Glades More Properties ', 'Price': ' 33K '}, {'Property Details': 'Semi Furnished 3BHK Apartment for Rent in RajajiNagar', 'Estate': ' Project: Phoenix One Bangalore West More Properties ', 'Price': ' 1L '}, {'Property Details': 'Semi Furnished 3BHK Apartment for Rent in HSR Layout', 'Estate': ' Project: Salarpuria Serenity More Properties ', 'Price': ' 37K '}, {'Property Details': 'Semi Furnished 3BHK Apartment for Rent in Kanakapura Road', 'Estate': ' Project: Mantri Tranquil More Properties ', 'Price': ' 25K '}, {'Property Details': 'Fully Furnished 3BHK Apartment for Rent in Whitefield', 'Estate': ' Project: Foyer Infinity More Properties ', 'Price': ' 29K '}, {'Property Details': 'Fully Furnished 2BHK Apartment for Rent in J.P. Nagar', 'Estate': ' Project: Puravankara Elita Promenade More Properties ', 'Price': ' 35K '}, {'Property Details': 'Semi Furnished 3BHK Apartment for Rent in Mahadevpura', 'Estate': ' Project: Brigade Metropolis More Properties ', 'Price': ' 35K '}, {'Property Details': 'Semi Furnished 3BHK Apartment for Rent in RajajiNagar', 'Estate': ' Project: Brigade Gateway  More Properties ', 'Price': ' 50K '}, {'Property Details': 'Semi Furnished 2BHK Apartment for Rent in J.P. Nagar', 'Estate': ' Project: Mahaveer Springs More Properties ', 'Price': ' 22K '}, {'Property Details': 'Semi Furnished 2BHK Apartment for Rent in J.P. Nagar', 'Estate': ' Project: Brigade Millennium More Properties ', 'Price': ' 25K '}, {'Property Details': 'Semi Furnished 4BHK Apartment for Rent in Marathahalli ORR', 'Estate': ' Project: Prestige Jade Pavillion More Properties ', 'Price': ' 52K '}, {'Property Details': 'Semi Furnished 3BHK Apartment for Rent in Nagavara', 'Estate': ' Project: Karle Zenith Residence More Properties ', 'Price': ' 62.50K '}, {'Property Details': 'Semi Furnished 3BHK Apartment for Rent in Jalahalli West', 'Estate': ' Project: Prestige Kensington Gardens More Properties ', 'Price': ' 30K '}, {'Property Details': 'Fully Furnished 4BHK Apartment for Rent in Hebbal', 'Estate': ' Project: Godrej Woodsman Estate More Properties ', 'Price': ' 90K '}, {'Property Details': 'Fully Furnished 3BHK Apartment for Rent in Whitefield', 'Estate': ' Project: Nishant Prime More Properties ', 'Price': ' 27K '}, {'Property Details': 'Semi Furnished 3BHK Apartment for Rent in Yeswanthpur', 'Estate': ' Project: Vaishnavi Nakshatra More Properties ', 'Price': ' 33K '}, {'Property Details': 'Semi Furnished 2BHK Apartment for Rent in Sarjapur Road', 'Estate': ' Project: Ahad Euphoria More Properties ', 'Price': ' 22K '}, {'Property Details': 'Semi Furnished 3BHK Apartment for Rent in Shigehalli', 'Estate': ' Project: Alpine Viva More Properties ', 'Price': ' 26K '}, {'Property Details': 'Fully Furnished 3BHK Villa for Rent in Bellary Road', 'Estate': ' Project: Sobha Malachite Phase I More Properties ', 'Price': ' 1.50L '}, {'Property Details': 'Semi Furnished 2BHK Apartment for Rent in Hennur Main Road', 'Estate': ' Project: Goyal Orchid Woods More Properties ', 'Price': ' 22K '}, {'Property Details': 'Semi Furnished 3BHK Apartment for Rent in Jakkur', 'Estate': ' Project: Brigade Northridge - Phase 1 More Properties ', 'Price': ' 26K '}, {'Property Details': 'Semi Furnished 3BHK Apartment for Rent in J.P. Nagar', 'Estate': ' Project: Mantri Elegance More Properties ', 'Price': ' 47K '}, {'Property Details': 'Semi Furnished 3BHK Apartment for Rent in J.P. Nagar', 'Estate': ' Project: Brigade Gardenia More Properties ', 'Price': ' 28K '}]\n"
     ]
    }
   ],
   "source": [
    "l =[]\n",
    "for house_price in all_houses:\n",
    "    dataframe ={}\n",
    "    a = house_price.find_all(\"div\",{\"class\" : \"infodata\"})\n",
    "    dataframe['Property Details'] = house_price.find(\"h2\").text \n",
    "    dataframe['Estate'] = house_price.find(\"h4\").text \n",
    "    dataframe['Price'] = a[0].find_all(\"span\")[0].text\n",
    "    l.append(dataframe)\n",
    "print(l)    "
   ]
  },
  {
   "cell_type": "code",
   "execution_count": 144,
   "metadata": {},
   "outputs": [],
   "source": [
    "import pandas\n",
    "df = pandas.DataFrame(l)\n",
    "df.to_csv(\"Property.csv\",index=False)"
   ]
  }
 ],
 "metadata": {
  "kernelspec": {
   "display_name": "Python 3",
   "language": "python",
   "name": "python3"
  },
  "language_info": {
   "codemirror_mode": {
    "name": "ipython",
    "version": 3
   },
   "file_extension": ".py",
   "mimetype": "text/x-python",
   "name": "python",
   "nbconvert_exporter": "python",
   "pygments_lexer": "ipython3",
   "version": "3.6.4"
  }
 },
 "nbformat": 4,
 "nbformat_minor": 2
}
